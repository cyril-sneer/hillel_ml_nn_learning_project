{
 "cells": [
  {
   "cell_type": "markdown",
   "source": [
    "# Imports"
   ],
   "metadata": {
    "collapsed": false
   },
   "id": "bc059a7a99251c43"
  },
  {
   "cell_type": "code",
   "execution_count": 55,
   "id": "initial_id",
   "metadata": {
    "collapsed": true,
    "ExecuteTime": {
     "end_time": "2024-02-20T16:06:44.121703368Z",
     "start_time": "2024-02-20T16:06:44.078732999Z"
    }
   },
   "outputs": [],
   "source": [
    "import keras\n",
    "from keras import layers\n",
    "from keras.datasets import imdb\n",
    "from keras.models import Sequential\n",
    "from keras.preprocessing.sequence import pad_sequences\n",
    "\n",
    "import numpy as np\n",
    "import matplotlib.pyplot as plt"
   ]
  },
  {
   "cell_type": "markdown",
   "source": [
    "# Загрузка и подготовка данных"
   ],
   "metadata": {
    "collapsed": false
   },
   "id": "7f45ce4780cbd938"
  },
  {
   "cell_type": "markdown",
   "source": [
    "При загрузке датасета применим параметр `num_words` = 10 000\n",
    "\n",
    "Слова ранжируются по тому, как часто они встречаются в обучающем наборе, \n",
    "и сохраняются только `num_words` наиболее часто встречающихся слов. \n",
    "Любое менее частое слово будет отображаться как значение oov_char в данных \n",
    "последовательности. Если None, все слова сохраняются. По умолчанию — None.\n",
    "\n",
    "https://keras.io/api/datasets/imdb/"
   ],
   "metadata": {
    "collapsed": false
   },
   "id": "af8162a9e307d725"
  },
  {
   "cell_type": "code",
   "outputs": [],
   "source": [
    "max_words=10000\n",
    "(x_train, y_train), (x_test, y_test) = imdb.load_data(num_words=max_words, seed=42)"
   ],
   "metadata": {
    "collapsed": false,
    "ExecuteTime": {
     "end_time": "2024-02-20T15:28:09.941665673Z",
     "start_time": "2024-02-20T15:28:05.808851328Z"
    }
   },
   "id": "ec8afa60a37c5884",
   "execution_count": 45
  },
  {
   "cell_type": "markdown",
   "source": [
    "Посмотрим что представляют собой загруженные данные"
   ],
   "metadata": {
    "collapsed": false
   },
   "id": "b650c4de5679645f"
  },
  {
   "cell_type": "code",
   "outputs": [
    {
     "data": {
      "text/plain": "array([list([1, 11, 4079, 11, 4, 1986, 745, 3304, 299, 1206, 590, 3029, 1042, 37, 47, 27, 1269, 2, 7637, 19, 6, 3586, 15, 1367, 3196, 17, 1002, 723, 1768, 2887, 757, 46, 4, 232, 1131, 39, 107, 3589, 11, 4, 4539, 198, 24, 4, 1834, 133, 4, 107, 7, 98, 413, 8911, 5835, 11, 35, 781, 8, 169, 4, 2179, 5, 259, 334, 3773, 8, 4, 3497, 10, 10, 17, 16, 3381, 46, 34, 101, 612, 7, 84, 18, 49, 282, 167, 2, 7173, 122, 24, 1414, 8, 177, 4, 392, 531, 19, 259, 15, 934, 40, 507, 39, 2, 260, 77, 8, 162, 5097, 121, 4, 65, 304, 273, 13, 70, 1276, 2, 8, 15, 745, 3304, 5, 27, 322, 2197, 2, 2, 70, 30, 2, 88, 17, 6, 3029, 1042, 29, 100, 30, 4943, 50, 21, 18, 148, 15, 26, 5980, 12, 152, 157, 10, 10, 21, 19, 3196, 46, 50, 5, 4, 1636, 112, 828, 6, 1003, 4, 162, 5097, 2, 517, 6, 2, 7, 4, 9527, 5593, 4, 351, 232, 385, 125, 6, 1693, 39, 2383, 5, 29, 69, 5593, 5670, 6, 162, 5097, 1567, 232, 256, 34, 718, 5612, 2980, 8, 6, 226, 762, 7, 2, 7830, 5, 517, 2, 6, 3242, 7, 4, 351, 232, 37, 9, 1861, 8, 123, 3196, 2, 5612, 188, 5165, 857, 11, 4, 86, 22, 121, 29, 1990, 1495, 10, 10, 1276, 61, 514, 11, 14, 22, 9, 1456, 9533, 14, 575, 208, 159, 9533, 16, 2, 5, 187, 15, 58, 29, 93, 6, 2, 7, 395, 62, 30, 1211, 493, 37, 26, 66, 2, 29, 299, 4, 172, 243, 7, 217, 11, 4, 2, 7106, 22, 4, 2, 1038, 13, 70, 243, 7, 3468, 19, 9533, 11, 15, 236, 1313, 136, 121, 29, 5, 5612, 26, 112, 4382, 180, 34, 3304, 1768, 5, 320, 4, 162, 5097, 568, 319, 4, 3324, 5235, 1456, 269, 8, 401, 56, 19, 5612, 16, 142, 334, 88, 146, 243, 7, 11, 2, 2756, 150, 11, 4, 2, 2550, 10, 10, 7173, 828, 4, 206, 170, 33, 6, 52, 4968, 225, 55, 117, 180, 58, 11, 14, 22, 48, 50, 16, 101, 329, 12, 62, 30, 35, 6637, 1532, 22, 4079, 11, 4, 1986, 1199, 35, 735, 18, 118, 204, 881, 15, 291, 10, 10, 7173, 82, 93, 52, 361, 7, 4, 162, 5097, 2, 5, 4, 785, 6542, 49, 7, 4, 172, 2572, 7, 665, 26, 303, 343, 11, 23, 4, 2, 11, 192, 4079, 11, 4, 1986, 9, 44, 84, 24, 2, 54, 36, 66, 144, 11, 68, 205, 118, 602, 55, 729, 174, 8, 23, 4, 2, 10, 10, 4079, 11, 4, 1986, 127, 316, 2606, 37, 16, 3445, 19, 12, 150, 138, 426, 2, 7173, 79, 49, 542, 162, 5097, 4413, 84, 11, 4, 392, 555]),\n       list([1, 48, 25, 942, 72, 4, 86, 31, 16, 66, 128, 31, 168, 33, 2695, 1983, 1331, 59, 9, 147, 384, 2747, 250, 168, 33, 4232, 4601, 59, 9, 43, 117, 2418, 2348, 187, 59, 9, 164, 84, 92, 6467, 41, 333, 7422, 16, 1036, 5, 893, 11, 86, 20, 150, 29, 9, 896, 393, 65, 9, 24, 15, 52, 5, 13, 81, 24, 391, 138, 161, 36, 97, 14, 31, 86, 12, 9, 4, 454, 2, 156, 164, 19, 65, 14, 9, 24, 2747, 14, 9, 395, 86, 31, 47, 128, 156, 128, 65, 5, 94, 384, 13, 104, 15, 4, 228, 9, 128, 11, 2747, 2998, 300, 5, 4, 228, 9, 128, 11, 2747, 2998, 342, 12, 9, 24, 4, 249, 20, 13, 219, 21, 11, 2, 19, 86, 31, 94, 31, 194, 194, 194, 164]),\n       list([1, 13, 244, 6, 194, 337, 6, 2, 787, 1716, 5, 207, 110, 98, 32, 5, 14, 9, 31, 7, 4, 118, 45, 163, 731, 5, 6, 356, 13, 386, 14, 18, 32, 2088, 45, 87, 18, 117, 362, 88, 45, 73, 2379, 5, 87, 18, 1473, 5, 1629, 88, 45, 163, 5, 24, 120, 4, 350, 13, 296, 12, 54, 13, 16, 117, 5, 13, 131, 106, 12, 150, 12, 47, 87, 411, 15, 61, 223, 5, 13, 3194, 32, 4, 58, 4, 116, 9, 87, 5, 12, 115, 214, 154, 48, 25, 40, 2447, 2953, 5, 6978, 25, 80, 119, 14, 207, 296, 111, 6, 2379, 20, 11, 61, 58, 5, 14, 9, 4, 118, 7, 98, 32, 806, 910, 13, 545, 386, 14, 20, 5, 32, 4, 2, 787, 1716, 287, 36, 32, 1271, 8, 32, 2088, 5, 26, 32, 955, 5, 55, 441]),\n       list([1, 13, 43, 1769, 886, 6, 274, 44, 8269, 14, 20, 16, 2357, 6213, 45, 40, 36, 188, 6, 1029, 7, 1433, 5, 43, 93, 285, 56, 27, 2, 5, 2, 71, 73, 4261, 180, 8, 4, 333, 54, 4, 58, 16, 56, 36, 317, 726, 36, 69, 32, 7, 4, 278, 42, 24, 36, 69, 3628, 7, 175, 1320, 121, 8, 471, 525, 2, 115, 219, 90, 33, 4, 3756, 29, 16, 579, 15, 8269, 1539, 18, 27, 6979, 103, 8269, 317, 2, 115, 60, 219, 8269, 159, 4, 314, 8269, 16, 556, 64, 4453, 7, 90, 4, 96, 27, 1366, 1066, 1131, 71, 2, 8269, 115, 8138, 6, 1982, 34, 309, 40, 29, 122, 11, 14, 20, 48, 13, 69, 115, 332, 4, 274, 279, 13, 100, 28, 510, 4, 20, 4, 116, 16, 6, 227, 120, 4, 350, 11, 1370, 4, 206, 16, 3701, 17, 73, 23, 333, 197, 13, 824, 48, 13, 62, 28, 510, 12, 76, 60, 48, 13, 1869, 332, 4, 274]),\n       list([1, 5060, 1712, 5, 9774, 2, 193, 49, 5142, 7025, 34, 6, 4847, 763, 49, 1702, 34, 6, 762, 7, 9325, 208, 2, 2, 4, 91, 1572, 9775, 7, 4, 91, 2, 2, 23, 4, 1225, 8, 316, 37, 2018, 533, 6, 2, 5, 2423, 14, 17, 4, 2, 7, 9174, 279, 68, 375, 22, 80, 4337, 2, 1802, 2, 5, 4, 2, 7, 4, 2, 2, 1416, 2893, 1702, 34, 49, 2, 2, 2, 5, 683, 68, 22, 51, 4, 182, 738, 8, 124, 44, 5281, 1116, 14, 22, 2478, 39, 199, 338, 365, 1234, 5, 583, 7, 692, 8, 4, 91, 1121, 1553, 7, 2, 92, 437, 129, 58, 5, 278, 43, 471, 23, 129, 244, 1878, 5, 1632, 8, 3409, 2, 18, 6, 378, 7, 504, 18, 879, 5, 490, 79, 4, 172, 749, 19, 4, 172, 651, 7, 2772, 4762])],\n      dtype=object)"
     },
     "execution_count": 46,
     "metadata": {},
     "output_type": "execute_result"
    }
   ],
   "source": [
    "x_train[:5]"
   ],
   "metadata": {
    "collapsed": false,
    "ExecuteTime": {
     "end_time": "2024-02-20T15:28:09.942969610Z",
     "start_time": "2024-02-20T15:28:09.941528558Z"
    }
   },
   "id": "4a31d9b86f7fd4c8",
   "execution_count": 46
  },
  {
   "cell_type": "code",
   "outputs": [
    {
     "data": {
      "text/plain": "array([1, 0, 1, 0, 0])"
     },
     "execution_count": 47,
     "metadata": {},
     "output_type": "execute_result"
    }
   ],
   "source": [
    "y_train[:5]"
   ],
   "metadata": {
    "collapsed": false,
    "ExecuteTime": {
     "end_time": "2024-02-20T15:28:09.943882585Z",
     "start_time": "2024-02-20T15:28:09.941725473Z"
    }
   },
   "id": "c88a0b2f683aa6f8",
   "execution_count": 47
  },
  {
   "cell_type": "markdown",
   "source": [
    "x_train, x_test - это списки токенов. \n",
    "Каждому слову в исходных последовательностях (отзывах на фильмы) поставлено в соответствие \n",
    "некое число - токен. Именно последовательности этих чисел находятся в датасете.\n",
    "\n",
    "С y_train, y_test все понятно - 1 означает, что отзыв положительный, 0 - отрицательный.\n",
    "\n",
    "Но посмотрим на длины последовательностей x_train, x_test"
   ],
   "metadata": {
    "collapsed": false
   },
   "id": "a63a63c9936faabc"
  },
  {
   "cell_type": "code",
   "outputs": [
    {
     "name": "stdout",
     "output_type": "stream",
     "text": [
      "467 138 147 168 144 248 125 204 138 182 "
     ]
    }
   ],
   "source": [
    "for i in range(10): print(len(x_train[i]), end=' ')"
   ],
   "metadata": {
    "collapsed": false,
    "ExecuteTime": {
     "end_time": "2024-02-20T15:28:09.944313746Z",
     "start_time": "2024-02-20T15:28:09.941823588Z"
    }
   },
   "id": "7897b635c06a7d50",
   "execution_count": 48
  },
  {
   "cell_type": "markdown",
   "source": [
    "Видим, что отзывы отличаются по длине, что неудивительно.\n",
    "Но на вход рекуррентной модели следует подавать последовательности одинаковой длины.\n",
    "Поэтому перед использованием все входные последовательности и в обучающей \n",
    "и в тестовой выборках, следует привести к одинаковой длине.\n",
    "Для этого будем использовать функцию `pad_sequences`"
   ],
   "metadata": {
    "collapsed": false
   },
   "id": "7f35517d8701a79"
  },
  {
   "cell_type": "code",
   "outputs": [],
   "source": [
    "max_review_len = 200\n",
    "x_train = pad_sequences(x_train, maxlen=max_review_len)\n",
    "x_test = pad_sequences(x_test, maxlen=max_review_len)"
   ],
   "metadata": {
    "collapsed": false,
    "ExecuteTime": {
     "end_time": "2024-02-20T15:28:10.385934705Z",
     "start_time": "2024-02-20T15:28:09.941910670Z"
    }
   },
   "id": "1117b2e01c7b17e3",
   "execution_count": 49
  },
  {
   "cell_type": "code",
   "outputs": [
    {
     "data": {
      "text/plain": "array([[ 299,    4,  172, ...,    4,  392,  555],\n       [   0,    0,    0, ...,  194,  194,  164],\n       [   0,    0,    0, ...,    5,   55,  441],\n       ...,\n       [  13,  169,  108, ...,   19,   35,    2],\n       [   0,    0,    0, ...,   20,  693,  158],\n       [   0,    0,    0, ...,   14,   16, 1262]], dtype=int32)"
     },
     "execution_count": 51,
     "metadata": {},
     "output_type": "execute_result"
    }
   ],
   "source": [
    "x_train[:10]"
   ],
   "metadata": {
    "collapsed": false,
    "ExecuteTime": {
     "end_time": "2024-02-20T15:28:34.265894517Z",
     "start_time": "2024-02-20T15:28:34.222614573Z"
    }
   },
   "id": "b2abcb91f6eab80a",
   "execution_count": 51
  },
  {
   "cell_type": "markdown",
   "source": [
    "Видим, что высказывания длиннее 200 слов обрезаны, а короткие дополнены нулями впереди.\n",
    "Кроме того, от матрицы 25000 х 1 мы перешли к матрице 25000 х 200"
   ],
   "metadata": {
    "collapsed": false
   },
   "id": "a990894a45d65cc2"
  },
  {
   "cell_type": "markdown",
   "source": [
    "# Создание нейронной сети"
   ],
   "metadata": {
    "collapsed": false
   },
   "id": "c7c31e96e3f5f45d"
  },
  {
   "cell_type": "markdown",
   "source": [
    "При построении моделей для работы с текстами, кроме предварительной токенизации,\n",
    "также следует использовать специальный слой - \n",
    "## Embedding\n",
    "\n",
    "`embedding_layer = layers.Embedding(input_dim=max_tokens, output_dim=256)`\n",
    "Слой `Embedding` принимает как минимум два аргумента: \n",
    "количество возможных токенов и размерность пространства (в данном случае 256)\n",
    "\n",
    "Слой `Embedding` лучше всего воспринимать как словарь, преобразующий целочисленные \n",
    "индексы (обозначающие конкретные слова) в плотные векторы. \n",
    "Он принимает целые числа на входе, отыскивает их во внутреннем словаре\n",
    "и возвращает соответствующие векторы. Это операция поиска в словаре:\n",
    "\n",
    "`Индекс слова -> слой Embedding -> Вектор, соответствующий слову`\n",
    "\n",
    "Слой `Embedding` получает на входе двумерный тензор с целыми числами и формой \n",
    "(образцы, длина_последовательности), каждый элемент которого является\n",
    "последовательностью целых чисел, и возвращает трехмерный тензор с вещественными \n",
    "числами и формой (образцы, длина_последовательности, размерность_векторного_представления)."
   ],
   "metadata": {
    "collapsed": false
   },
   "id": "793b2a8d503d5fc8"
  },
  {
   "cell_type": "markdown",
   "source": [
    "Для построения сети будем использовать функциональный API"
   ],
   "metadata": {
    "collapsed": false
   },
   "id": "ecd2dfb5db1ed803"
  },
  {
   "cell_type": "code",
   "outputs": [
    {
     "name": "stdout",
     "output_type": "stream",
     "text": [
      "Model: \"model_3\"\n",
      "_________________________________________________________________\n",
      " Layer (type)                Output Shape              Param #   \n",
      "=================================================================\n",
      " input_7 (InputLayer)        [(None, 200)]             0         \n",
      "                                                                 \n",
      " embedding_6 (Embedding)     (None, 200, 128)          1280000   \n",
      "                                                                 \n",
      " lstm_10 (LSTM)              (None, 200, 128)          131584    \n",
      "                                                                 \n",
      " lstm_11 (LSTM)              (None, 64)                49408     \n",
      "                                                                 \n",
      " dense_4 (Dense)             (None, 1)                 65        \n",
      "                                                                 \n",
      "=================================================================\n",
      "Total params: 1461057 (5.57 MB)\n",
      "Trainable params: 1461057 (5.57 MB)\n",
      "Non-trainable params: 0 (0.00 Byte)\n",
      "_________________________________________________________________\n"
     ]
    }
   ],
   "source": [
    "inputs = keras.Input(shape=(max_review_len, ))\n",
    "embedded = layers.Embedding(input_dim=max_words, output_dim=128, input_length=max_review_len)(inputs)\n",
    "x = layers.LSTM(units=128, return_sequences=True)(embedded)\n",
    "x = layers.LSTM(units=64)(x)\n",
    "outputs = layers.Dense(1, activation='sigmoid')(x)\n",
    "\n",
    "model = keras.Model(inputs=inputs, outputs=outputs)\n",
    "\n",
    "model.compile(optimizer='adam',\n",
    "              loss='binary_crossentropy',\n",
    "              metrics=['accuracy'])\n",
    "\n",
    "model.summary()"
   ],
   "metadata": {
    "collapsed": false,
    "ExecuteTime": {
     "end_time": "2024-02-20T16:44:40.801648398Z",
     "start_time": "2024-02-20T16:44:40.270006371Z"
    }
   },
   "id": "ec1a8eadd87f4867",
   "execution_count": 75
  },
  {
   "cell_type": "code",
   "outputs": [],
   "source": [
    "callbacks = [keras.callbacks.ModelCheckpoint(\"LSTM.keras\", save_best_only=True)]"
   ],
   "metadata": {
    "collapsed": false,
    "ExecuteTime": {
     "end_time": "2024-02-20T16:44:44.503175241Z",
     "start_time": "2024-02-20T16:44:44.491771859Z"
    }
   },
   "id": "f66f7fdc62ccf662",
   "execution_count": 76
  },
  {
   "cell_type": "markdown",
   "source": [
    "# Обучение сети"
   ],
   "metadata": {
    "collapsed": false
   },
   "id": "20a6887a0a9be19a"
  },
  {
   "cell_type": "code",
   "outputs": [
    {
     "name": "stdout",
     "output_type": "stream",
     "text": [
      "Epoch 1/5\n",
      "137/137 [==============================] - 65s 454ms/step - loss: 0.4663 - accuracy: 0.7683 - val_loss: 0.3399 - val_accuracy: 0.8537\n",
      "Epoch 2/5\n",
      "137/137 [==============================] - 63s 460ms/step - loss: 0.2505 - accuracy: 0.9019 - val_loss: 0.3283 - val_accuracy: 0.8645\n",
      "Epoch 3/5\n",
      "137/137 [==============================] - 63s 459ms/step - loss: 0.1627 - accuracy: 0.9432 - val_loss: 0.3607 - val_accuracy: 0.8656\n",
      "Epoch 4/5\n",
      "137/137 [==============================] - 63s 461ms/step - loss: 0.1116 - accuracy: 0.9626 - val_loss: 0.4103 - val_accuracy: 0.8440\n",
      "Epoch 5/5\n",
      "137/137 [==============================] - 64s 464ms/step - loss: 0.0801 - accuracy: 0.9736 - val_loss: 0.4880 - val_accuracy: 0.8577\n"
     ]
    }
   ],
   "source": [
    "history = model.fit(\n",
    "    x=x_train,\n",
    "    y=y_train,\n",
    "    batch_size=128,\n",
    "    epochs=5,\n",
    "    callbacks=callbacks,\n",
    "    validation_split=0.3\n",
    ")"
   ],
   "metadata": {
    "collapsed": false,
    "ExecuteTime": {
     "end_time": "2024-02-20T16:50:08.100664296Z",
     "start_time": "2024-02-20T16:44:50.176340986Z"
    }
   },
   "id": "684ddacfd5c33c79",
   "execution_count": 77
  },
  {
   "cell_type": "code",
   "outputs": [
    {
     "data": {
      "text/plain": "<Figure size 1200x400 with 2 Axes>",
      "image/png": "[encoded data removed]"
     },
     "metadata": {},
     "output_type": "display_data"
    }
   ],
   "source": [
    "plt.figure(figsize=(12, 4))\n",
    "\n",
    "plt.subplot(1, 2, 1)\n",
    "plt.plot(history.history['loss'], label='Training loss')\n",
    "plt.plot(history.history['val_loss'], label='Validation loss')\n",
    "plt.title('LOSS')\n",
    "plt.xlabel('Эпоха обучения')\n",
    "plt.ylabel('Потери')\n",
    "plt.grid(True)\n",
    "plt.legend()\n",
    "plt.xticks(range(5))\n",
    "\n",
    "plt.subplot(1, 2, 2)\n",
    "plt.plot(history.history['accuracy'], label='Training accuracy')\n",
    "plt.plot(history.history['val_accuracy'], label='Validation accuracy')\n",
    "plt.title('ACCURACY')\n",
    "plt.xlabel('Эпоха обучения')\n",
    "plt.ylabel('Доля верных ответов')\n",
    "plt.grid(True)\n",
    "plt.legend()\n",
    "plt.xticks(range(5))\n",
    "\n",
    "plt.show()"
   ],
   "metadata": {
    "collapsed": false,
    "ExecuteTime": {
     "end_time": "2024-02-20T17:03:34.452501809Z",
     "start_time": "2024-02-20T17:03:34.110696175Z"
    }
   },
   "id": "6de27d39434e4bc9",
   "execution_count": 79
  },
  {
   "cell_type": "markdown",
   "source": [
    "# Проверка работы сети на тестовом наборе"
   ],
   "metadata": {
    "collapsed": false
   },
   "id": "51f28b6fc5936292"
  },
  {
   "cell_type": "code",
   "outputs": [
    {
     "name": "stdout",
     "output_type": "stream",
     "text": [
      "782/782 [==============================] - 51s 64ms/step - loss: 0.3341 - accuracy: 0.8631\n",
      "Test loss: 0.33, accuracy: 0.86\n"
     ]
    }
   ],
   "source": [
    "model = keras.models.load_model(filepath='LSTM.keras')\n",
    "scores = model.evaluate(x_test, y_test, verbose=1)\n",
    "print(f'Test loss: {scores[0]:.2f}, accuracy: {scores[1]:.2f}')"
   ],
   "metadata": {
    "collapsed": false,
    "ExecuteTime": {
     "end_time": "2024-02-20T17:11:21.171968014Z",
     "start_time": "2024-02-20T17:10:29.300266349Z"
    }
   },
   "id": "cd6261e47ffa9e03",
   "execution_count": 83
  }
 ],
 "metadata": {
  "kernelspec": {
   "display_name": "Python 3",
   "language": "python",
   "name": "python3"
  },
  "language_info": {
   "codemirror_mode": {
    "name": "ipython",
    "version": 2
   },
   "file_extension": ".py",
   "mimetype": "text/x-python",
   "name": "python",
   "nbconvert_exporter": "python",
   "pygments_lexer": "ipython2",
   "version": "2.7.6"
  }
 },
 "nbformat": 4,
 "nbformat_minor": 5
}
